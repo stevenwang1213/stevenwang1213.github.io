{
 "cells": [
  {
   "cell_type": "markdown",
   "id": "7f1c8928-7b20-43a5-af7a-57198ab8f686",
   "metadata": {},
   "source": [
    "Please note that this script may not always work as expected due to certain limitations and potential errors. Firstly, Alpha Vantage, the API we're using, imposes a limit on the number of API calls that can be made within a certain period. For free users, this limit is typically set at 5 API requests per minute and 500 requests per day. If you exceed this limit, the API may not return the expected data, which can cause the script to fail or produce inaccurate results.\n",
    "\n",
    "Secondly, sometimes an API might return an error, or the structure of the API response might change unexpectedly. Our script expects certain keys, such as 'SharesOutstanding', to be present in the API's response. If these keys are not included in the response due to an error or change on the API's side, a KeyError will be triggered, causing the script to stop. It's important to be aware of these potential issues when running the script and interpreting its output."
   ]
  },
  {
   "cell_type": "code",
   "execution_count": 98,
   "id": "58cb0722-5f15-41f0-9e81-991c885505ec",
   "metadata": {},
   "outputs": [
    {
     "name": "stdout",
     "output_type": "stream",
     "text": [
      "The intrinsic value of the AAPL stock is: 121.25555994785546\n"
     ]
    }
   ],
   "source": [
    "import requests\n",
    "import numpy as np\n",
    "\n",
    "# Constants\n",
    "DISCOUNT_RATE = 0.1\n",
    "TERMINAL_GROWTH_RATE = 0.02  # commonly used rate for perpetuity\n",
    "API_KEY = 'Alpha Vantage API'\n",
    "SYMBOL = 'AAPL'\n",
    "\n",
    "# Get the cash flow statement\n",
    "cash_flow_url = f'https://www.alphavantage.co/query?function=CASH_FLOW&symbol={SYMBOL}&apikey={API_KEY}'\n",
    "cash_flow_data = requests.get(cash_flow_url).json()\n",
    "\n",
    "try:\n",
    "    cash_flow_statement = cash_flow_data['annualReports']\n",
    "except KeyError:\n",
    "    print(\"Error: Unable to find 'annualReports' in the API response\")\n",
    "    cash_flow_statement = []\n",
    "\n",
    "# Get the free cash flow for the last fiscal year\n",
    "if cash_flow_statement:\n",
    "    try:\n",
    "        free_cash_flow_last_year = float(cash_flow_statement[0]['operatingCashflow']) - float(cash_flow_statement[0]['capitalExpenditures'])\n",
    "    except KeyError:\n",
    "        print(\"Error: Unable to find 'operatingCashflow' or 'capitalExpenditures' in the API response\")\n",
    "        free_cash_flow_last_year = 0\n",
    "else:\n",
    "    print(\"Error: No data available in 'annualReports'\")\n",
    "    free_cash_flow_last_year = 0\n",
    "\n",
    "# Estimate the growth rate of the free cash flow using CAGR formula\n",
    "cash_flows = [float(report.get('operatingCashflow', 0)) - float(report.get('capitalExpenditures', 0)) for report in cash_flow_statement]\n",
    "years = len(cash_flows)\n",
    "if cash_flows and cash_flows[-1] != 0:  # add check for cash_flows list being not empty\n",
    "    growth_rate = (cash_flows[0] / cash_flows[-1]) ** (1 / years) - 1\n",
    "else:\n",
    "    print(\"Error: No cash flow data available or last year's cash flow is zero\")\n",
    "    growth_rate = 0\n",
    "\n",
    "# Calculate the present value of future cash flows for the first 5 years\n",
    "years = np.arange(1, 6)\n",
    "cash_flows = free_cash_flow_last_year * (1 + growth_rate) ** years\n",
    "discounted_cash_flows = cash_flows / (1 + DISCOUNT_RATE) ** years\n",
    "\n",
    "# Calculate the terminal value and its present value\n",
    "terminal_value = (cash_flows[-1] * (1 + TERMINAL_GROWTH_RATE)) / (DISCOUNT_RATE - TERMINAL_GROWTH_RATE)\n",
    "discounted_terminal_value = terminal_value / (1 + DISCOUNT_RATE) ** years[-1]\n",
    "\n",
    "# Add the discounted terminal value to the discounted cash flows\n",
    "discounted_cash_flows = np.append(discounted_cash_flows, discounted_terminal_value)\n",
    "\n",
    "# Get the balance sheet data\n",
    "balance_sheet_url = f'https://www.alphavantage.co/query?function=BALANCE_SHEET&symbol={SYMBOL}&apikey={API_KEY}'\n",
    "balance_sheet_data = requests.get(balance_sheet_url).json()\n",
    "\n",
    "try:\n",
    "    balance_sheet = balance_sheet_data['annualReports']\n",
    "except KeyError:\n",
    "    print(\"Error: Unable to find 'annualReports' in the API response\")\n",
    "    balance_sheet = []\n",
    "\n",
    "# Get the total debt, cash and equivalents\n",
    "total_debt = float(balance_sheet[0].get('shortLongTermDebtTotal', 0))\n",
    "cash_and_equivalents = float(balance_sheet[0].get('cashAndCashEquivalentsAtCarryingValue', 0))\n",
    "\n",
    "# Get the number of shares outstanding\n",
    "overview_url = f'https://www.alphavantage.co/query?function=OVERVIEW&symbol={SYMBOL}&apikey={API_KEY}'\n",
    "overview_data = requests.get(overview_url).json()\n",
    "\n",
    "try:\n",
    "    shares_outstanding = float(overview_data['SharesOutstanding'])\n",
    "except KeyError:\n",
    "    print(\"Error: Unable to find 'SharesOutstanding' in the API response\")\n",
    "    shares_outstanding = 1  # You might want to handle this situation differently\n",
    "\n",
    "# Calculate and print the intrinsic value of the stock\n",
    "intrinsic_value = (np.sum(discounted_cash_flows) - total_debt + cash_and_equivalents) / shares_outstanding\n",
    "print(f'The intrinsic value of the {SYMBOL} stock is: {intrinsic_value}')"
   ]
  }
 ],
 "metadata": {
  "kernelspec": {
   "display_name": "Python 3 (ipykernel)",
   "language": "python",
   "name": "python3"
  },
  "language_info": {
   "codemirror_mode": {
    "name": "ipython",
    "version": 3
   },
   "file_extension": ".py",
   "mimetype": "text/x-python",
   "name": "python",
   "nbconvert_exporter": "python",
   "pygments_lexer": "ipython3",
   "version": "3.10.9"
  }
 },
 "nbformat": 4,
 "nbformat_minor": 5
}
